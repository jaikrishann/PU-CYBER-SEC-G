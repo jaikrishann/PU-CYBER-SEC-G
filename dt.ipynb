{
 "cells": [
  {
   "cell_type": "markdown",
   "id": "ccf003a8",
   "metadata": {},
   "source": [
    "- A dictionary in Python is a collection of key-value\n",
    "    pairs, where:   \n",
    "- keys are unique and immutable (string,numbers,tuple) \n",
    "- values can be of any data type(list,string,int,dict etc)\n",
    "- Dict is unordered (before python3.7) but insertion-ordered(since python 3.7+)\n",
    "- dict is mutuable \n",
    "- dict do not allow duplicate values"
   ]
  },
  {
   "cell_type": "code",
   "execution_count": 6,
   "id": "1051eec0",
   "metadata": {},
   "outputs": [
    {
     "name": "stdout",
     "output_type": "stream",
     "text": [
      "{'name': 'ace', 'age': 10, 'city': 'mumbai'}\n",
      "<class 'dict'>\n"
     ]
    }
   ],
   "source": [
    "dt = {\n",
    "    \"name\" : \"ace\",\n",
    "    \"age\" : 10,\n",
    "    \"city\" : \"delhi\",\n",
    "    \"city\" : \"mumbai\"\n",
    "}\n",
    "print(dt)\n",
    "print(type(dt))"
   ]
  },
  {
   "cell_type": "code",
   "execution_count": 7,
   "id": "55fd89bd",
   "metadata": {},
   "outputs": [],
   "source": [
    "dt = {\n",
    "    1 : \"ace\",\n",
    "    2 : 10,\n",
    "    3 : \"delhi\",\n",
    "    4 : \"mumbai\",\n",
    "    (1,2,3) : \"ace\",\n",
    "    (4,5): \"hello\"\n",
    "}"
   ]
  },
  {
   "cell_type": "code",
   "execution_count": null,
   "id": "932b15ab",
   "metadata": {},
   "outputs": [
    {
     "data": {
      "text/plain": [
       "{'name': 'ace', 'age': 20, 'city': 'delhi'}"
      ]
     },
     "execution_count": 8,
     "metadata": {},
     "output_type": "execute_result"
    }
   ],
   "source": [
    "##dict constructor  --- one more way to create dictionary\n",
    "dt = dict(name = \"ace\", age = 20 , city = \"delhi\")\n",
    "dt"
   ]
  },
  {
   "cell_type": "code",
   "execution_count": null,
   "id": "199118d3",
   "metadata": {},
   "outputs": [
    {
     "name": "stdout",
     "output_type": "stream",
     "text": [
      "{'name': 'ace', 'age': 10, 'city': 'jaipur'}\n"
     ]
    }
   ],
   "source": [
    "#acccessing the dictionary\n",
    "dt = {\n",
    "    \"name\" : \"ace\",\n",
    "    \"age\" : 10,\n",
    "    \"city\" : \"delhi\",\n",
    "    \n",
    "}\n",
    "# you can update the value of the dictionary by accessing \n",
    "dt[\"city\"] = \"jaipur\"\n",
    "print(dt)"
   ]
  },
  {
   "cell_type": "code",
   "execution_count": null,
   "id": "033d465e",
   "metadata": {},
   "outputs": [
    {
     "data": {
      "text/plain": [
       "{'name': 'ace', 'age': 10, 'city': 'jaipur', 'hobby': 'cricket'}"
      ]
     },
     "execution_count": 15,
     "metadata": {},
     "output_type": "execute_result"
    }
   ],
   "source": [
    "##dict methods \n",
    "dt = {\n",
    "    \"name\" : \"ace\",\n",
    "    \"age\" : 10,\n",
    "    \"city\" : \"delhi\"}\n",
    "# dt.keys()\n",
    "# dt.values()\n",
    "# dt.items()\n",
    "# dt.get(\"city\")\n",
    "# #pop will help you to remove the particular key\n",
    "# dt.pop(\"city\")\n",
    "# del dt[\"city\"]\n",
    "# #popitem will help you to remove the last key\n",
    "# dt.popitem()\n",
    "\n",
    "# dt.update({\"city\":\"jaipur\",\"hobby\":\"cricket\"})\n",
    "# dt"
   ]
  },
  {
   "cell_type": "code",
   "execution_count": 26,
   "id": "cdf632c2",
   "metadata": {},
   "outputs": [
    {
     "data": {
      "text/plain": [
       "'jaipur'"
      ]
     },
     "execution_count": 26,
     "metadata": {},
     "output_type": "execute_result"
    }
   ],
   "source": [
    "students = {\n",
    "    \"101\" : {\"name\" : \"ravi\", \"city\" : \"delhi\"},\n",
    "    \"102\" : {\"name\" : \"ram\", \"city\" : \"jaipur\"},\n",
    "    \"103\" : {\"name\" : \"shyam\", \"city\" : \"mumbai\"}\n",
    "}\n",
    "students[\"102\"][\"city\"]"
   ]
  },
  {
   "cell_type": "code",
   "execution_count": 30,
   "id": "3ed070c0",
   "metadata": {},
   "outputs": [
    {
     "name": "stdout",
     "output_type": "stream",
     "text": [
      "[10, 20, [30, 40, [500, 60], 70], 80, 90]\n"
     ]
    }
   ],
   "source": [
    "lst = [10,20,[30,40,[50,60],70],80,90]\n",
    "lst[2][2][0] = 500\n",
    "print(lst)"
   ]
  },
  {
   "cell_type": "code",
   "execution_count": null,
   "id": "8cf826b7",
   "metadata": {},
   "outputs": [],
   "source": []
  },
  {
   "cell_type": "code",
   "execution_count": null,
   "id": "b338b4fa",
   "metadata": {},
   "outputs": [],
   "source": []
  }
 ],
 "metadata": {
  "kernelspec": {
   "display_name": "Python 3",
   "language": "python",
   "name": "python3"
  },
  "language_info": {
   "codemirror_mode": {
    "name": "ipython",
    "version": 3
   },
   "file_extension": ".py",
   "mimetype": "text/x-python",
   "name": "python",
   "nbconvert_exporter": "python",
   "pygments_lexer": "ipython3",
   "version": "3.11.9"
  }
 },
 "nbformat": 4,
 "nbformat_minor": 5
}
