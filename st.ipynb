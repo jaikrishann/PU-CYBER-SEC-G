{
 "cells": [
  {
   "cell_type": "markdown",
   "id": "45a290cc",
   "metadata": {},
   "source": [
    "# SET"
   ]
  },
  {
   "cell_type": "code",
   "execution_count": 1,
   "id": "46be6526",
   "metadata": {},
   "outputs": [],
   "source": [
    "# or set() constructor"
   ]
  },
  {
   "cell_type": "code",
   "execution_count": 2,
   "id": "391687d8",
   "metadata": {},
   "outputs": [
    {
     "name": "stdout",
     "output_type": "stream",
     "text": [
      "{0, 1, 2, 'hello', 22.23}\n",
      "<class 'set'>\n"
     ]
    }
   ],
   "source": [
    "st = {1,0,2,False,1,\"hello\",22.23,1,2,1,0}\n",
    "print(st)\n",
    "print(type(st))"
   ]
  },
  {
   "cell_type": "code",
   "execution_count": 3,
   "id": "ee2f346c",
   "metadata": {},
   "outputs": [
    {
     "name": "stdout",
     "output_type": "stream",
     "text": [
      "{1, 2, 3, 4, 5}\n",
      "<class 'set'>\n"
     ]
    }
   ],
   "source": [
    "s = {1,2,3,4,5}\n",
    "print(s)\n",
    "print(type(s))"
   ]
  },
  {
   "cell_type": "code",
   "execution_count": null,
   "id": "82a710d0",
   "metadata": {},
   "outputs": [
    {
     "name": "stdout",
     "output_type": "stream",
     "text": [
      "{1, 3, 4, 5}\n"
     ]
    }
   ],
   "source": [
    "#it will help you to add a single element in your set \n",
    "# st.add(6)\n",
    "#update - adds multiple elements(from list , tuple , set)\n",
    "# st.update([6,7],{8,9})\n",
    "#remove -> removes an element\n",
    "#raises keyerror if element not found\n",
    "# st.remove(2)\n",
    "st = {1,2,3,4,5}\n",
    "#discard -->removes element if present\n",
    "#does not raise error if element is not present\n",
    "# st.discard(2)\n",
    "#pop --> removes and returns a random element \n",
    "# st.pop()\n",
    "print(st)"
   ]
  },
  {
   "cell_type": "code",
   "execution_count": 9,
   "id": "4b6c78b1",
   "metadata": {},
   "outputs": [
    {
     "name": "stdout",
     "output_type": "stream",
     "text": [
      "{1, 2, 3, 4, 5}\n",
      "{1, 2, 3, 4, 5}\n"
     ]
    }
   ],
   "source": [
    "##mathematical operations \n",
    "# union // |\n",
    "#combines all the unique elements\n",
    "a = {1,2,3}\n",
    "b = {3,4,5}\n",
    "print(a.union(b))\n",
    "print(a | b )\n"
   ]
  },
  {
   "cell_type": "code",
   "execution_count": null,
   "id": "2779f8d7",
   "metadata": {},
   "outputs": [
    {
     "name": "stdout",
     "output_type": "stream",
     "text": [
      "{3}\n",
      "{3}\n"
     ]
    }
   ],
   "source": [
    "#intersection // & \n",
    "#returns common element\n",
    "a = {1,2,3}\n",
    "b = {3,4,5}\n",
    "print(a.intersection(b))\n",
    "print(a & b )"
   ]
  },
  {
   "cell_type": "code",
   "execution_count": 11,
   "id": "e73dce7c",
   "metadata": {},
   "outputs": [
    {
     "name": "stdout",
     "output_type": "stream",
     "text": [
      "{1, 2}\n",
      "{4, 5}\n"
     ]
    }
   ],
   "source": [
    "#difference // - \n",
    "#returns elements present in one set but not in the other\n",
    "a = {1,2,3}\n",
    "b = {3,4,5}\n",
    "print(a.difference(b))\n",
    "print(b.difference(a))"
   ]
  },
  {
   "cell_type": "code",
   "execution_count": 14,
   "id": "495499d5",
   "metadata": {},
   "outputs": [
    {
     "name": "stdout",
     "output_type": "stream",
     "text": [
      "{1, 2, 4, 5}\n"
     ]
    }
   ],
   "source": [
    "#symmetric_diff // - \n",
    "#returns elements present in either set but not in both \n",
    "a = {1,2,3}\n",
    "b = {3,4,5}\n",
    "print(a.symmetric_difference(b))"
   ]
  },
  {
   "cell_type": "code",
   "execution_count": 21,
   "id": "5a4d3d40",
   "metadata": {},
   "outputs": [
    {
     "name": "stdout",
     "output_type": "stream",
     "text": [
      "True\n"
     ]
    }
   ],
   "source": [
    "#issubset()\n",
    "#checks if all elements of one set are in another \n",
    "a = {1,2}\n",
    "b = { 1,2,3,4}\n",
    "print(a.issubset(b))"
   ]
  },
  {
   "cell_type": "code",
   "execution_count": 22,
   "id": "d6a397f5",
   "metadata": {},
   "outputs": [
    {
     "name": "stdout",
     "output_type": "stream",
     "text": [
      "True\n"
     ]
    }
   ],
   "source": [
    "#issuperset()\n",
    "#checks if a set contain all elements of another\n",
    "a = {1,2,3,4}\n",
    "b = {1,2}\n",
    "print(a.issuperset(b))"
   ]
  },
  {
   "cell_type": "code",
   "execution_count": 24,
   "id": "70023c18",
   "metadata": {},
   "outputs": [
    {
     "name": "stdout",
     "output_type": "stream",
     "text": [
      "{3}\n",
      "{3, 4}\n"
     ]
    }
   ],
   "source": [
    "#isdisjoint()\n",
    "# returns true if two sets have no common element  \n",
    "a = {1,2,3}\n",
    "b = {3,4}\n",
    "#\n",
    "a.intersection_update(b)\n",
    "print(a)\n",
    "print(b)\n",
    "# print(a.isdisjoint(b))"
   ]
  },
  {
   "cell_type": "code",
   "execution_count": null,
   "id": "9598381c",
   "metadata": {},
   "outputs": [],
   "source": [
    "# "
   ]
  }
 ],
 "metadata": {
  "kernelspec": {
   "display_name": "Python 3",
   "language": "python",
   "name": "python3"
  },
  "language_info": {
   "codemirror_mode": {
    "name": "ipython",
    "version": 3
   },
   "file_extension": ".py",
   "mimetype": "text/x-python",
   "name": "python",
   "nbconvert_exporter": "python",
   "pygments_lexer": "ipython3",
   "version": "3.11.9"
  }
 },
 "nbformat": 4,
 "nbformat_minor": 5
}
