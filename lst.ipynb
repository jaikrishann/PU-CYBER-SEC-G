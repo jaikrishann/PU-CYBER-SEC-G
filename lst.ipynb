{
 "cells": [
  {
   "cell_type": "code",
   "execution_count": 1,
   "id": "1d53cfbc",
   "metadata": {},
   "outputs": [
    {
     "name": "stdout",
     "output_type": "stream",
     "text": [
      "['red', 1, 2, 22.34, True, 1, 2]\n",
      "<class 'list'>\n"
     ]
    }
   ],
   "source": [
    "## \n",
    "lst = [\"red\",1,2,22.34,True,1,2]\n",
    "print(lst)\n",
    "print(type(lst))"
   ]
  },
  {
   "cell_type": "code",
   "execution_count": 2,
   "id": "d704c567",
   "metadata": {},
   "outputs": [
    {
     "name": "stdout",
     "output_type": "stream",
     "text": [
      "['green', 1, 2, 22.34, True, 1, 2]\n"
     ]
    }
   ],
   "source": [
    "##updating values in the list by index\n",
    "lst = [\"red\",1,2,22.34,True,1,2]\n",
    "lst[0] = \"green\"\n",
    "print(lst)\n"
   ]
  },
  {
   "cell_type": "code",
   "execution_count": 3,
   "id": "694d240f",
   "metadata": {},
   "outputs": [
    {
     "name": "stdout",
     "output_type": "stream",
     "text": [
      "['blue', 'yellow', 2, 22.34, True, 1, 2]\n"
     ]
    }
   ],
   "source": [
    "##updating values in the list by slicing\n",
    "lst = [\"red\",\"green\",2,22.34,True,1,2]\n",
    "lst[0:2]  = [\"blue\",\"yellow\"]\n",
    "#case 2 -- values access kar rahe wo jyda and update wali kaam\n",
    "#case3 case 2 ka opp\n",
    "print(lst)"
   ]
  },
  {
   "cell_type": "code",
   "execution_count": null,
   "id": "cc524495",
   "metadata": {},
   "outputs": [
    {
     "name": "stdout",
     "output_type": "stream",
     "text": [
      "['blue', 'red', 'green']\n"
     ]
    }
   ],
   "source": [
    "##list methods\n",
    "# lst.count(\"red\")\n",
    "# lst.index(\"red\")\n",
    "# lst.copy()\n",
    "\n",
    "# lst.sort() # default --> ascending order\n",
    "# lst.sort(reverse = True) # descending order\n",
    "# lst2 = lst.copy()\n",
    "# lst2\n",
    "# lst.reverse()\n",
    "#reverse the list by slicing \n",
    "# lst[::-1]\n",
    "# lst.clear() #clear vs del \n",
    "# del lst\n",
    "lst = [\"red\",\"blue\",\"red\",\"green\"]\n",
    "# lst.append(\"yellow\")\n",
    "# lst.extend([\"yellow\",\"orange\"])\n",
    "# lst.insert(2,\"yellow\")\n",
    "##values remove \n",
    "# lst.remove(\"red\")\n",
    "# lst.pop()\n",
    "# lst.pop(2)\n",
    "\n",
    "\n",
    "print(lst)"
   ]
  },
  {
   "cell_type": "code",
   "execution_count": null,
   "id": "5f653334",
   "metadata": {},
   "outputs": [],
   "source": [
    "\n"
   ]
  },
  {
   "cell_type": "code",
   "execution_count": null,
   "id": "12ee34b3",
   "metadata": {},
   "outputs": [],
   "source": []
  },
  {
   "cell_type": "code",
   "execution_count": null,
   "id": "5358ccab",
   "metadata": {},
   "outputs": [],
   "source": []
  },
  {
   "cell_type": "code",
   "execution_count": null,
   "id": "0381c8eb",
   "metadata": {},
   "outputs": [],
   "source": []
  },
  {
   "cell_type": "code",
   "execution_count": null,
   "id": "0a4658c7",
   "metadata": {},
   "outputs": [],
   "source": []
  },
  {
   "cell_type": "code",
   "execution_count": null,
   "id": "f4d0e4e8",
   "metadata": {},
   "outputs": [],
   "source": []
  }
 ],
 "metadata": {
  "kernelspec": {
   "display_name": "Python 3",
   "language": "python",
   "name": "python3"
  },
  "language_info": {
   "codemirror_mode": {
    "name": "ipython",
    "version": 3
   },
   "file_extension": ".py",
   "mimetype": "text/x-python",
   "name": "python",
   "nbconvert_exporter": "python",
   "pygments_lexer": "ipython3",
   "version": "3.11.9"
  }
 },
 "nbformat": 4,
 "nbformat_minor": 5
}
