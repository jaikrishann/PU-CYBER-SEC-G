{
 "cells": [
  {
   "cell_type": "markdown",
   "id": "2398ff4e",
   "metadata": {},
   "source": [
    "## Conditional Statements\n",
    "- IF , ELSE , ELIF"
   ]
  },
  {
   "cell_type": "code",
   "execution_count": null,
   "id": "70d3245f",
   "metadata": {},
   "outputs": [],
   "source": [
    "#what are conditional statements?\n",
    "# CS are used to make decisions in a program\n",
    "# they allow the program to execute diff code block \n",
    "#depending on whether a condition is True or False.\n",
    "# we have if , elif and else statements in python"
   ]
  },
  {
   "cell_type": "code",
   "execution_count": 1,
   "id": "98e3e860",
   "metadata": {},
   "outputs": [
    {
     "name": "stdout",
     "output_type": "stream",
     "text": [
      "you can vote\n"
     ]
    }
   ],
   "source": [
    "#the if statement \n",
    "# if checks a condition (boolean exp).\n",
    "#if the condition is True, the indented block runs.\n",
    "\n",
    "age = 20 \n",
    "if age>=18:\n",
    "    print(\"you can vote\")\n",
    "    "
   ]
  },
  {
   "cell_type": "code",
   "execution_count": 3,
   "id": "96495749",
   "metadata": {},
   "outputs": [
    {
     "name": "stdout",
     "output_type": "stream",
     "text": [
      "you cannot vote\n"
     ]
    }
   ],
   "source": [
    "#the else statement\n",
    "#used when if condition is false\n",
    "age = 10 \n",
    "if age>=18:\n",
    "    print(\"you can vote\")\n",
    "else:\n",
    "    print(\"you cannot vote\")"
   ]
  },
  {
   "cell_type": "code",
   "execution_count": 4,
   "id": "355792e2",
   "metadata": {},
   "outputs": [
    {
     "name": "stdout",
     "output_type": "stream",
     "text": [
      "B\n"
     ]
    }
   ],
   "source": [
    "#the elif statement:\n",
    "#used to check multiple conditions\n",
    "#executes the first condition that evaluates to True\n",
    "marks = 75\n",
    "if marks >=90:\n",
    "    print(\"grade A\")\n",
    "elif marks>=75:\n",
    "    print(\"B\")\n",
    "else:\n",
    "    print(\"C\")"
   ]
  },
  {
   "cell_type": "code",
   "execution_count": null,
   "id": "4e76b79d",
   "metadata": {},
   "outputs": [],
   "source": [
    "#nested if statements\n",
    "#an if statement inside another if.\n",
    "age = int(input(\"ENTER AGE\")) \n",
    "if age>18:\n",
    "    if age<60:\n",
    "        print(\"you are an adult\")\n",
    "    else:\n",
    "        print(\"you are a senior citizen\")"
   ]
  },
  {
   "cell_type": "code",
   "execution_count": 11,
   "id": "9d1ef574",
   "metadata": {},
   "outputs": [
    {
     "name": "stdout",
     "output_type": "stream",
     "text": [
      "hello world\n"
     ]
    }
   ],
   "source": [
    "print(\"hello\",end=\" \")\n",
    "print(\"world\")\n",
    "##op -- > hello world "
   ]
  },
  {
   "cell_type": "code",
   "execution_count": null,
   "id": "42a26087",
   "metadata": {},
   "outputs": [],
   "source": [
    "#short hand if-else // ternanry operator "
   ]
  },
  {
   "cell_type": "code",
   "execution_count": null,
   "id": "3a34eb1e",
   "metadata": {},
   "outputs": [
    {
     "name": "stdout",
     "output_type": "stream",
     "text": [
      "you can vote\n"
     ]
    }
   ],
   "source": [
    "#short hand if // \n",
    "#short way of writing if statement.\n",
    "age = 20 \n",
    "if age>=18:print(\"you can vote\")"
   ]
  },
  {
   "cell_type": "code",
   "execution_count": null,
   "id": "fd29a576",
   "metadata": {},
   "outputs": [],
   "source": []
  }
 ],
 "metadata": {
  "kernelspec": {
   "display_name": "Python 3",
   "language": "python",
   "name": "python3"
  },
  "language_info": {
   "codemirror_mode": {
    "name": "ipython",
    "version": 3
   },
   "file_extension": ".py",
   "mimetype": "text/x-python",
   "name": "python",
   "nbconvert_exporter": "python",
   "pygments_lexer": "ipython3",
   "version": "3.11.9"
  }
 },
 "nbformat": 4,
 "nbformat_minor": 5
}
