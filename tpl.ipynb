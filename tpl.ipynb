{
 "cells": [
  {
   "cell_type": "markdown",
   "id": "e1f61904",
   "metadata": {},
   "source": [
    "# Tuple"
   ]
  },
  {
   "cell_type": "code",
   "execution_count": 3,
   "id": "5d205a63",
   "metadata": {},
   "outputs": [
    {
     "name": "stdout",
     "output_type": "stream",
     "text": [
      "(1, 2, 3, 'hello', True, 22.34, 1)\n",
      "<class 'tuple'>\n"
     ]
    }
   ],
   "source": [
    "tpl = (1,2,3,\"hello\",True,22.34,1)\n",
    "print(tpl)\n",
    "print(type(tpl))"
   ]
  },
  {
   "cell_type": "code",
   "execution_count": 5,
   "id": "51e151fd",
   "metadata": {},
   "outputs": [
    {
     "name": "stdout",
     "output_type": "stream",
     "text": [
      "('hello',)\n",
      "<class 'tuple'>\n"
     ]
    }
   ],
   "source": [
    "tpl = (\"hello\",)\n",
    "print(tpl)\n",
    "print(type(tpl))"
   ]
  },
  {
   "cell_type": "code",
   "execution_count": 6,
   "id": "113af39a",
   "metadata": {},
   "outputs": [
    {
     "ename": "TypeError",
     "evalue": "'tuple' object does not support item assignment",
     "output_type": "error",
     "traceback": [
      "\u001b[31m---------------------------------------------------------------------------\u001b[39m",
      "\u001b[31mTypeError\u001b[39m                                 Traceback (most recent call last)",
      "\u001b[36mCell\u001b[39m\u001b[36m \u001b[39m\u001b[32mIn[6]\u001b[39m\u001b[32m, line 2\u001b[39m\n\u001b[32m      1\u001b[39m tpl = (\u001b[33m\"\u001b[39m\u001b[33mred\u001b[39m\u001b[33m\"\u001b[39m,\u001b[33m\"\u001b[39m\u001b[33mblue\u001b[39m\u001b[33m\"\u001b[39m,\u001b[33m\"\u001b[39m\u001b[33mgreen\u001b[39m\u001b[33m\"\u001b[39m)\n\u001b[32m----> \u001b[39m\u001b[32m2\u001b[39m \u001b[43mtpl\u001b[49m\u001b[43m[\u001b[49m\u001b[32;43m2\u001b[39;49m\u001b[43m]\u001b[49m = \u001b[33m\"\u001b[39m\u001b[33myellow\u001b[39m\u001b[33m\"\u001b[39m\n\u001b[32m      3\u001b[39m \u001b[38;5;28mprint\u001b[39m(tpl)\n\u001b[32m      4\u001b[39m \u001b[38;5;66;03m#we can not change the value of tuple because it is immutable\u001b[39;00m\n",
      "\u001b[31mTypeError\u001b[39m: 'tuple' object does not support item assignment"
     ]
    }
   ],
   "source": [
    "tpl = (\"red\",\"blue\",\"green\")\n",
    "tpl[2] = \"yellow\"\n",
    "print(tpl)\n",
    "#we can not change the value of tuple because it is immutable"
   ]
  },
  {
   "cell_type": "code",
   "execution_count": null,
   "id": "db81b3ec",
   "metadata": {},
   "outputs": [],
   "source": [
    "#tuple methods\n",
    "tpl = (\"red\",\"blue\",\"green\")\n",
    "print(tpl.count(\"red\"))\n",
    "print(tpl.index(\"blue\"))"
   ]
  },
  {
   "cell_type": "code",
   "execution_count": null,
   "id": "b3593faa",
   "metadata": {},
   "outputs": [],
   "source": []
  },
  {
   "cell_type": "code",
   "execution_count": null,
   "id": "f9f6a413",
   "metadata": {},
   "outputs": [],
   "source": []
  }
 ],
 "metadata": {
  "kernelspec": {
   "display_name": "Python 3",
   "language": "python",
   "name": "python3"
  },
  "language_info": {
   "codemirror_mode": {
    "name": "ipython",
    "version": 3
   },
   "file_extension": ".py",
   "mimetype": "text/x-python",
   "name": "python",
   "nbconvert_exporter": "python",
   "pygments_lexer": "ipython3",
   "version": "3.11.9"
  }
 },
 "nbformat": 4,
 "nbformat_minor": 5
}
