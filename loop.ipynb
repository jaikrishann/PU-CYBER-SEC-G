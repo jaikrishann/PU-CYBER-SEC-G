{
 "cells": [
  {
   "cell_type": "markdown",
   "id": "9254b419",
   "metadata": {},
   "source": [
    "# LOOP "
   ]
  },
  {
   "cell_type": "markdown",
   "id": "f6dc264f",
   "metadata": {},
   "source": [
    "- A loop is a statement that allows a block of code to be executed multiple times.\n",
    "- A loop is used to iterate over a sequence of elements, such as a list, tuple, or string.\n",
    "\n",
    "## Types of Loops\n",
    "\n",
    "- For loop\n",
    "- While loop"
   ]
  },
  {
   "cell_type": "markdown",
   "id": "8591f358",
   "metadata": {},
   "source": [
    "### For Loop\n",
    "- Used when you know the number of iterations in advance.\n",
    "- iterate over a seq of items(list,tuple,string,array,range)\n",
    "- Syntax:\n",
    "for variable in sequence:\n",
    "\n",
    "    code to be executed"
   ]
  },
  {
   "cell_type": "code",
   "execution_count": 5,
   "id": "e7e1eb70",
   "metadata": {},
   "outputs": [
    {
     "name": "stdout",
     "output_type": "stream",
     "text": [
      "p\n",
      "y\n",
      "t\n",
      "h\n",
      "o\n",
      "n\n"
     ]
    }
   ],
   "source": [
    "#for loop on string \n",
    "for i in \"python\":\n",
    "    print(i)"
   ]
  },
  {
   "cell_type": "code",
   "execution_count": 6,
   "id": "c749e307",
   "metadata": {},
   "outputs": [
    {
     "name": "stdout",
     "output_type": "stream",
     "text": [
      "1\n",
      "2\n",
      "3\n",
      "4\n",
      "5\n"
     ]
    }
   ],
   "source": [
    "lst = [1,2,3,4,5]\n",
    "for i in lst:\n",
    "    print(i)"
   ]
  },
  {
   "cell_type": "code",
   "execution_count": 9,
   "id": "b929aa83",
   "metadata": {},
   "outputs": [
    {
     "name": "stdout",
     "output_type": "stream",
     "text": [
      "5\n",
      "7\n",
      "9\n"
     ]
    }
   ],
   "source": [
    "#RANGE FUNCTION\n",
    "#range(start,stop,step)\n",
    "for i in range(5,10,2):\n",
    "    print(i)\n"
   ]
  },
  {
   "cell_type": "code",
   "execution_count": 13,
   "id": "2707532b",
   "metadata": {},
   "outputs": [
    {
     "name": "stdout",
     "output_type": "stream",
     "text": [
      "name ----> john\n",
      "age ----> 26\n",
      "hobby ----> cricket\n"
     ]
    }
   ],
   "source": [
    "dt = {\n",
    "    \"name\" : \"john\",\n",
    "    \"age\" : 26,\n",
    "    \"hobby\" : \"cricket\"\n",
    "}\n",
    "for i ,j in dt.items():\n",
    "    print(i,\"---->\",j)"
   ]
  },
  {
   "cell_type": "code",
   "execution_count": 1,
   "id": "50e708aa",
   "metadata": {},
   "outputs": [
    {
     "name": "stdout",
     "output_type": "stream",
     "text": [
      "red 1\n",
      "red 2\n",
      "red 3\n",
      "black 1\n",
      "black 2\n",
      "black 3\n",
      "white 1\n",
      "white 2\n",
      "white 3\n"
     ]
    }
   ],
   "source": [
    "#nested loop \n",
    "lst1 = ['red',\"black\",\"white\"]\n",
    "lst2 = [1,2,3]\n",
    "for i in lst1:\n",
    "    for j in lst2:\n",
    "        print(i,j)"
   ]
  },
  {
   "cell_type": "code",
   "execution_count": null,
   "id": "20bf04a4",
   "metadata": {},
   "outputs": [],
   "source": []
  }
 ],
 "metadata": {
  "kernelspec": {
   "display_name": "Python 3",
   "language": "python",
   "name": "python3"
  },
  "language_info": {
   "codemirror_mode": {
    "name": "ipython",
    "version": 3
   },
   "file_extension": ".py",
   "mimetype": "text/x-python",
   "name": "python",
   "nbconvert_exporter": "python",
   "pygments_lexer": "ipython3",
   "version": "3.11.9"
  }
 },
 "nbformat": 4,
 "nbformat_minor": 5
}
